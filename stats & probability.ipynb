{
 "cells": [
  {
   "cell_type": "markdown",
   "id": "98831ada",
   "metadata": {},
   "source": [
    "<h2>QUESTION 1 </h2>"
   ]
  },
  {
   "cell_type": "markdown",
   "id": "cd1ad2cd",
   "metadata": {},
   "source": [
    "<H3>Probability of diamond card in first draw P(a)= 13/52 <br><br>\n",
    "    Probability of heart card in second draw  P(b)= 13/51<br><br>\n",
    "    Probability of spade card in third draw   P(c)=13/50 <br><br>\n",
    "    Total Probability = P(a)* P(b)* P(c) <br><br>\n",
    "                     &emsp; &emsp;=(13*13*13)/(52*51*50) <br><br> \n",
    "                      &emsp; &emsp;= 0.01656 =1.656 %</H3>"
   ]
  },
  {
   "cell_type": "code",
   "execution_count": 3,
   "id": "59796490",
   "metadata": {},
   "outputs": [
    {
     "name": "stdout",
     "output_type": "stream",
     "text": [
      "Total Probability is  1.656862745098039 %\n"
     ]
    }
   ],
   "source": [
    "PA=13/52\n",
    "PB=13/51\n",
    "PC=13/50\n",
    "Total_Probability= PA*PB*PC\n",
    "print(\"Total Probability is \",Total_Probability *100, \"%\")"
   ]
  },
  {
   "cell_type": "markdown",
   "id": "757c9a66",
   "metadata": {},
   "source": [
    "<h2>QUESTION 2 </h2>"
   ]
  },
  {
   "cell_type": "markdown",
   "id": "c93d7895",
   "metadata": {},
   "source": [
    "<h3>Probability of liking action movies p(a)=42/100 <br><br>\n",
    "    Probability of liking comedy movies p(b)=54/100 <br><br>\n",
    "    Probability of liking drama movies  p(c)=36/100 <br><br>\n",
    "    Probability of liking horror movies p(d)=12/100 <br><br>\n",
    "    Probability of liking either action or drama movies,<br><br>\n",
    "        &emsp;&emsp; p(AD)= p(a)+p(c)<br><br>\n",
    "        &emsp;&emsp;      =(42+36)/100 <br> <br>\n",
    "          &emsp;&emsp;    = 78/100 =78 % <br><br>\n",
    "    Probability of liking either comedy or horror movies,<br><br>\n",
    "       &emsp;&emsp;  p(CH)= p(b)+p(d)<br><br>\n",
    "        &emsp;&emsp;      =(54+12)/100 <br><br>\n",
    "         &emsp;&emsp;     =66/100   =66% </h3>\n",
    "              "
   ]
  },
  {
   "cell_type": "code",
   "execution_count": 4,
   "id": "69873816",
   "metadata": {},
   "outputs": [
    {
     "name": "stdout",
     "output_type": "stream",
     "text": [
      "Probability of liking either action or drama movies is 0.78 %\n",
      "Probability of liking either comedy or horror movies is 0.66 %\n"
     ]
    }
   ],
   "source": [
    "pa=42/100\n",
    "pb=54/100\n",
    "pc=36/100\n",
    "pd=12/100\n",
    "print(\"Probability of liking either action or drama movies is\",pa+pc,\"%\")\n",
    "print(\"Probability of liking either comedy or horror movies is\",pb+pd,\"%\")"
   ]
  },
  {
   "cell_type": "markdown",
   "id": "ac63b43b",
   "metadata": {},
   "source": [
    "<H2>QUESTION 3</H2>"
   ]
  },
  {
   "cell_type": "markdown",
   "id": "4e51e0ca",
   "metadata": {},
   "source": [
    "<h4> bag A= 3 red and 5 black balls<br><br>\n",
    "     bag B= 4 white and 7 balck balls<br><br>\n",
    "     Probability of bags =1/2 <br><br>\n",
    "     Probability of black ball from bag A = P(B/A)=5/8<br><br>\n",
    "     Probability of black ball from bag B = P(B/B)=7/11<br><br>\n",
    "     By Naive Bayes theorem,<br><br>\n",
    "     P(B/B)= (p(B)*p(B/B)) / (p(A)*p(B/A)+p(B)*p(B/B))<br><br>\n",
    "          &emsp;&emsp; =( 1/2 * 7/11) / ((1/2 * 5/8)+( 1/2 * 7/11))<br><br>\n",
    "          &emsp;&emsp; =0.50450\n"
   ]
  },
  {
   "cell_type": "markdown",
   "id": "bcd7fe4d",
   "metadata": {},
   "source": [
    "<H2>QUESTION 4</H2>"
   ]
  },
  {
   "cell_type": "markdown",
   "id": "59b3ccf8",
   "metadata": {},
   "source": [
    "<h4>By Poission Distribution<br><br>  \n",
    "    λ =450/60----->450 applications in 1 hour <br><br>\n",
    "    a) receiving 10 applications in 1 minute <br><br>\n",
    "     &emsp;&emsp; x=10 <br><br>\n",
    "     &emsp;&emsp; By Poission Distribution<br><br>\n",
    "     &emsp;&emsp;&emsp;&emsp;P(X=x)=(e**(-λ).( λ)**x)/ x!<br><br>\n",
    "            &emsp;&emsp;&emsp;&emsp;=(e**(-450/60).( 450/60)**10)/ 10!<br><br> \n",
    "            &emsp;&emsp;&emsp;&emsp;=0.0858<br><br>  </h4>\n",
    "    \n",
    "   <h4>  b) receiving atleast 17 applications in 2 minutes<br><br> \n",
    "        &emsp;&emsp;  x=17<br><br> \n",
    "        &emsp;&emsp;&emsp;&emsp;  P(X=x)=(e**(-450/60).( 450/60)**17)/ 17!<br><br> \n",
    "          &emsp;&emsp;&emsp;&emsp;      =0.6321<br><br> </h4> \n",
    "    \n",
    "         "
   ]
  },
  {
   "cell_type": "markdown",
   "id": "03ca5615",
   "metadata": {},
   "source": [
    "<H2>QUESTION 6</H2>\n",
    "<h4>  μ = 350870 ,σ =12405<br><br>\n",
    "      75 th percentile Q3 = μ +(.675)σ<br><br>\n",
    "                      &emsp;&emsp;    =350870+(.675*12405)<br><br>\n",
    "                     &emsp;&emsp;     = 359243.375 </h4><br><br>"
   ]
  },
  {
   "cell_type": "markdown",
   "id": "d0afaf47",
   "metadata": {},
   "source": [
    "<H2>QUESTION 7</H2>"
   ]
  },
  {
   "cell_type": "code",
   "execution_count": 7,
   "id": "e91f498b",
   "metadata": {},
   "outputs": [
    {
     "name": "stdout",
     "output_type": "stream",
     "text": [
      "F-STATISTIC is  : 0.9921235138705414\n"
     ]
    }
   ],
   "source": [
    "UC=[44,21,36,34,77,32,29,39,92,67,45,37]\n",
    "MV=[47,81,41,79,38,20,33,83,41,40,69,36]\n",
    "import numpy as np\n",
    "x = np.array(UC)\n",
    "y = np.array(MV)\n",
    "f = np.var(x, ddof=1)/np.var(y, ddof=1)\n",
    "print(\"F-STATISTIC is  :\",f)"
   ]
  },
  {
   "cell_type": "markdown",
   "id": "a389a277",
   "metadata": {},
   "source": [
    "<H2>QUESTION 8</H2>"
   ]
  },
  {
   "cell_type": "code",
   "execution_count": 9,
   "id": "62d6c331",
   "metadata": {},
   "outputs": [
    {
     "data": {
      "text/plain": [
       "(1.6944444444444444, 0.3711340206185567)"
      ]
     },
     "execution_count": 9,
     "metadata": {},
     "output_type": "execute_result"
    }
   ],
   "source": [
    "import numpy as np\n",
    "from scipy.stats import poisson\n",
    "m=[44.5,42,46.5]\n",
    "sd=[5,5,8]\n",
    "def f_test(x,y):\n",
    "    x = np.array(x)\n",
    "    y = np.array(y)\n",
    "    f = np.var(x, ddof=1)/np.var(y, ddof=1) #calculate F test statistic \n",
    "    dfn = x.size-1 #define degrees of freedom numerator \n",
    "    dfd = y.size-1 #define degrees of freedom denominator \n",
    "    p = 1-scipy.stats.f.cdf(f, dfn, dfd) #find p-value of F test statistic \n",
    "    return f, p\n",
    "\n",
    "#perform F-test\n",
    "f_test(m,sd)"
   ]
  },
  {
   "cell_type": "markdown",
   "id": "2a0ddd26",
   "metadata": {},
   "source": [
    "<H2>QUESTION 9</H2>"
   ]
  },
  {
   "cell_type": "code",
   "execution_count": 8,
   "id": "3ad29edf",
   "metadata": {},
   "outputs": [
    {
     "name": "stdout",
     "output_type": "stream",
     "text": [
      "0.040177141568228006\n"
     ]
    }
   ],
   "source": [
    "from scipy.stats import poisson\n",
    "print(poisson.pmf(k=80,mu=76))"
   ]
  },
  {
   "cell_type": "markdown",
   "id": "af1937a4",
   "metadata": {},
   "source": [
    "<H2>QUESTION 10</H2>"
   ]
  },
  {
   "cell_type": "code",
   "execution_count": null,
   "id": "7aea097e",
   "metadata": {},
   "outputs": [],
   "source": []
  }
 ],
 "metadata": {
  "kernelspec": {
   "display_name": "Python 3 (ipykernel)",
   "language": "python",
   "name": "python3"
  },
  "language_info": {
   "codemirror_mode": {
    "name": "ipython",
    "version": 3
   },
   "file_extension": ".py",
   "mimetype": "text/x-python",
   "name": "python",
   "nbconvert_exporter": "python",
   "pygments_lexer": "ipython3",
   "version": "3.9.7"
  }
 },
 "nbformat": 4,
 "nbformat_minor": 5
}
